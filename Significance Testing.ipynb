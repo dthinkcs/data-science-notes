{
 "cells": [
  {
   "cell_type": "markdown",
   "metadata": {},
   "source": [
    "# 1. Hypothesis testing\n",
    "\n",
    "A hypothesis is a pattern or rule about a process in the world that can be tested. We use hypothesis testing to determine if a change we made had a meaningful impact or not.\n",
    "\n",
    "You can use hypothesis testing to help you determine:\n",
    "\n",
    "- if a new banner ad on a website caused a meaningful drop in the user engagement,\n",
    "- if raising the price of a product caused a meaningful drop in sales,\n",
    "- if a new weight loss pill helped people lose more weight.\n",
    "\n",
    "Observing a decrease in user engagement or sales after instituting a change doesn't automatically imply that the change was the cause. Hypothesis testing allows us to calculate the probability that random chance was actually responsible for the difference in outcome. Every process has some inherent amount of randomness that we can't measure and understanding the role of chance helps us reach a conclusion that's more likely to be correct.\n",
    "\n",
    "We first set up a **null hypothesis** that describes the status quo. We then state an **alternative hypothesis**, which we used to compare with the null hypothesis to decide which describes the data better. In the end, we either need to:\n",
    "\n",
    "- reject the null hypothesis and accept the alternative hypothesis or\n",
    "- accept the null hypothesis and reject the alternative hypothesis.\n",
    "\n",
    "We can frame each of the studies above as these rival pairs of hypotheses:\n",
    "\n",
    "- if a new banner ad on a website caused a meaningful drop in the user engagement:\n",
    "    - null hypothesis: users who were exposed to the banner ad spent the same amount of time on the website than those who weren't.\n",
    "    - alternative hypothesis: users who were exposed to the banner ad spent less time on the website than those who weren't.\n",
    "- if raising the price of a product caused a meaningful drop in sales:\n",
    "    - null hypothesis: the number of purchases of the product was the same at the lower price than it was at the higher price.\n",
    "    - alternative hypothesis: the number of purchases of the product was lower at the higher price than it was at the lower price.\n",
    "- if a new weight loss pill helped people lose more weight:\n",
    "    - null hypothesis: patients who went on the weight loss pill lost no more weight than those who didn't.\n",
    "    - alternative hypothesis: patients who went on the weight loss pill lost more weight than those who didn't."
   ]
  },
  {
   "cell_type": "markdown",
   "metadata": {},
   "source": [
    "# 2. Research design\n",
    "\n",
    "To help us determine if the weight loss pill was effective, we conducted a study where we invited 100 volunteers and split them into 2 even groups randomly:\n",
    "\n",
    "- Group A was given a placebo, or fake, pill and instructed to consume it on a daily basis.\n",
    "- Group B was given the actual weight loss pill and instructed to consume it on a daily basis.\n",
    "\n",
    "Both groups were instructed to change nothing else about their diets. Group A is referred to as the control group while group B is referred to as the treatment group. This type of study is called a [blind experiment](https://en.wikipedia.org/wiki/Blind_experiment) since the participants didn't know which pill they were receiving. This helps us reduce the potential bias that is introduced when participants know which pill they were given. For example, participants who are aware they were given the weight loss pill may try to add healthier foods to their diet to help them lose more weight. Both groups were weighed before the study began and a month later, after the study ended.\n",
    "\n",
    "Understanding the **research design** for a study is an important first step that informs the rest of your analysis. It helps us uncover potential flaws in the study that we need to keep in mind as we dive deeper. The weight loss pill study we conducted is known as an experimental study. Experimental studies usually involve bringing in participants, instructing them to perform some tasks, and observing them. A key part of running an experimental study is random assignment, which involves assigning participants in the study to random groups without revealing which group each participant is in. Before exploring and analyzing a dataset, it's important to understand how the study was conducted. Flaws in how the study was run can lead you to reach the wrong conclusions."
   ]
  },
  {
   "cell_type": "markdown",
   "metadata": {},
   "source": [
    "# 3. Statistical significance\n",
    "\n",
    "Statistics helps us determine if the difference in the weight lost between the 2 groups is because of random chance or because of an actual difference in the outcomes. If there is a meaningful difference, we say that the results are **statistically significant**. We'll dive into what this means exactly over the course of this mission.\n",
    "\n",
    "Now that we're familiar with the study, let's state our null and alternative hypotheses more precisely. Our null hypothesis should describe the default position of skepticism, which is that there's no statistically significant difference between the outcomes of the 2 groups. Put another way, it should state that any difference is due to random chance. Our alternative hypothesis should state that there is in fact a statistically significant difference between the outcomes of the 2 groups.\n",
    "\n",
    "- ***Null hypothesis***: participants who consumed the weight loss pills lost the same amount of weight as those who didn't take the pill.\n",
    "- ***Alternative hypothesis***: participants who consumed the weight loss pills lost more weight than those who didn't take the pill."
   ]
  },
  {
   "cell_type": "code",
   "execution_count": 1,
   "metadata": {},
   "outputs": [],
   "source": [
    "import pandas as pd\n",
    "\n",
    "weight_loss = pd.read_csv('data/weight_loss.csv')\n",
    "weight_lost_a = list(weight_loss.iloc[:, 0])\n",
    "weight_lost_b = list(weight_loss.iloc[:, 1])"
   ]
  },
  {
   "cell_type": "markdown",
   "metadata": {},
   "source": [
    "The lists `weight_lost_a` and `weight_lost_b` contain the amount of weight (in pounds) that the participants in each group lost. Let's now explore the data to become more familiar with it."
   ]
  },
  {
   "cell_type": "code",
   "execution_count": 2,
   "metadata": {},
   "outputs": [
    {
     "name": "stdout",
     "output_type": "stream",
     "text": [
      "2.816326530612245\n",
      "5.346938775510204\n"
     ]
    },
    {
     "data": {
      "text/plain": [
       "<matplotlib.figure.Figure at 0x7f72d57149b0>"
      ]
     },
     "metadata": {},
     "output_type": "display_data"
    }
   ],
   "source": [
    "import numpy as np\n",
    "import matplotlib.pyplot as plt\n",
    "\n",
    "mean_group_a = np.mean(weight_lost_a)\n",
    "mean_group_b = np.mean(weight_lost_b)\n",
    "print(mean_group_a)\n",
    "print(mean_group_b)\n",
    "\n",
    "plt.hist(weight_lost_a)\n",
    "plt.hist(weight_lost_b)\n",
    "plt.show()"
   ]
  },
  {
   "cell_type": "markdown",
   "metadata": {},
   "source": [
    "# 4. Test statistic\n",
    "\n",
    "To decide which hypothesis more accurately describes the data, we need to frame the hypotheses more quantitatively. The first step is to decide on a **test statistic**, which is a numerical value that summarizes the data and we can use in statistical formulas. We use this test statistic to run a statistical test that will determine how likely the difference between the groups were due to random chance.\n",
    "\n",
    "Since we want to know if the amount of weight lost between the groups is meaningfully different, we will use the difference in the means, also known as the mean difference, of the amount of weight lost for each group as the test statistic.\n",
    "\n",
    "The following symbol is used to represent the sample mean in statistics: $\\bar{x}$\n",
    "\n",
    "We'll use: $\\bar{x}_a$ to denote the mean of group A and $\\bar{x}_b$ to denote the mean of group B.\n",
    "\n",
    "For the mean difference, we'll subtract the mean of group A from group B: $\\bar{x}_b - \\bar{x}_a$\n",
    "\n",
    "Now that we have decided on a test statistic, we can rewrite our hypotheses to be more precise:\n",
    "\n",
    "Null hypothesis: $\\bar{x}_b - \\bar{x}_a = 0$\n",
    "\n",
    "Alternative hypothesis: $\\bar{x}_b - \\bar{x}_a > 0$\n",
    "\n",
    "Note that while we've stated our hypotheses as equations, we're not simply calculating the difference and matching the result to hypothesis. We're instead using a statistical test to determine which of these statements better describes the data."
   ]
  },
  {
   "cell_type": "code",
   "execution_count": 3,
   "metadata": {},
   "outputs": [
    {
     "name": "stdout",
     "output_type": "stream",
     "text": [
      "2.5306122448979593\n"
     ]
    }
   ],
   "source": [
    "mean_difference = mean_group_b - mean_group_a\n",
    "print(mean_difference)"
   ]
  },
  {
   "cell_type": "markdown",
   "metadata": {},
   "source": [
    "# 5. Permutation test\n",
    "\n",
    "Now that we have a test statistic, we need to decide on a statistical test. The purpose of a statistical test is to work out the likelihood that the result we achieved was due to random chance.\n",
    "\n",
    "The **permutation test** is a statistical test that involves simulating rerunning the study many times and recalculating the test statistic for each iteration. The goal is to calculate a distribution of the test statistics over these many iterations. This distribution is called the **sampling distribution** and it approximates the full range of possible test statistics under the null hypothesis. We can then benchmark the test statistic we observed in the data to determine how likely it is to observe this mean difference under the null hypothesis. If the null hypothesis is true, that the weight loss pill doesn't help people lose more weight, than the observed mean difference of `2.52` should be quite common in the sampling distribution. If it's instead extremely rare, then we accept the alternative hypothesis instead.\n",
    "\n",
    "To simulate rerunning the study, we randomly reassign each data point (weight lost) to either group A or group B. We keep track of the recalculated test statistics as a separate *list*. By re-randomizing the groups that the weight loss values belong to, we're simulating what randomly generated groupings of these weight loss values would look like. We then use these randomly generated groupings to understand how rare the groupings in our actual data were.\n",
    "\n",
    "Ideally, the number of times we re-randomize the groups that each data point belongs to matches the total number of possible permutations. Usually, the number of total permutations is too high for even powerful supercomputers to calculate within a reasonable time frame. While we'll use 1000 iterations for now since we'll get the results back quickly, in later missions we'll learn how to quantify the tradeoff we make between accuracy and speed to determine the optimal number of iterations.\n",
    "\n",
    "Since we'll be randomizing the groups each value belongs to, we created a list named `all_values` that contains just the weight loss values."
   ]
  },
  {
   "cell_type": "code",
   "execution_count": 4,
   "metadata": {},
   "outputs": [
    {
     "data": {
      "image/png": "[encoded data removed]",
      "text/plain": [
       "<matplotlib.figure.Figure at 0x7f72cb3914a8>"
      ]
     },
     "metadata": {},
     "output_type": "display_data"
    }
   ],
   "source": [
    "mean_difference = 2.52\n",
    "all_values = weight_lost_a + weight_lost_b\n",
    "mean_differences = []\n",
    "\n",
    "for i in range(1000):\n",
    "    group_a = []\n",
    "    group_b = []\n",
    "    for value in all_values:\n",
    "        assignment_chance = np.random.rand()\n",
    "        if assignment_chance >= 0.5:\n",
    "            group_a.append(value)\n",
    "        else:\n",
    "            group_b.append(value)\n",
    "    iteration_mean_difference = np.mean(group_b) - np.mean(group_a)\n",
    "    mean_differences.append(iteration_mean_difference)\n",
    "    \n",
    "plt.hist(mean_differences)\n",
    "plt.show()"
   ]
  },
  {
   "cell_type": "markdown",
   "metadata": {},
   "source": [
    "# 6. Sampling distribution\n",
    "\n",
    "By randomly assigning participants to group A or group B, we account for the effect of random chance. Someone in group B who just happened to lose more weight (but not because of the pills) makes the results look better than they were. By creating many permutations, we're able to see all possible configurations of this error. Creating a histogram enables us to see how likely different values of our test statistic are if we repeated our experiment many times.\n",
    "\n",
    "The histogram we generated in the previous step using Matplotlib is a visual representation of the sampling distribution. Let's now create a *dictionary* that contains the values in the sampling distribution so we can benchmark our observed test statistic against it.\n",
    "\n",
    "The keys in the *dictionary* should be the test statistic and the values should be their frequency:\n",
    "\n",
    "```json\n",
    "{\n",
    "    0.34943639291465356: 3,\n",
    "    -0.55702280912364888: 2, \n",
    "    -0.14942528735632177: 1\n",
    "    ....\n",
    "}\n",
    "```\n",
    "\n",
    "We need to first count up how frequently each value in the *list*, `mean_differences`, occurs. As we loop over `mean_differences`, we need a way to check if the test statistic is already in our `dictionary`:\n",
    "\n",
    "- If it is, we look up the value at that key, add `1` to it, and assign the new value to the key.\n",
    "- If it isn't, we add the key to the dictionary and assign the value `1` to it."
   ]
  },
  {
   "cell_type": "markdown",
   "metadata": {},
   "source": [
    "# 7. Dictionary representation of a distribution"
   ]
  },
  {
   "cell_type": "code",
   "execution_count": 5,
   "metadata": {},
   "outputs": [],
   "source": [
    "sampling_distribution = {}\n",
    "\n",
    "for v in mean_differences:\n",
    "    if sampling_distribution.get(v) is not None:\n",
    "        sampling_distribution[v] += 1\n",
    "    else:\n",
    "        sampling_distribution[v] = 1\n",
    "        \n",
    "# print(sampling_distribution)"
   ]
  },
  {
   "cell_type": "markdown",
   "metadata": {},
   "source": [
    "# 8. P value"
   ]
  },
  {
   "cell_type": "markdown",
   "metadata": {},
   "source": [
    "In the sampling distribution we generated, most of the values are closely centered around the mean difference of `0`. This means that if it were purely up to chance, both groups would have lost the same amount of weight (the null hypothesis). But since the observed test statistic is not near `0`, it could mean that the weight loss pills could be responsible for the mean difference in the study.\n",
    "\n",
    "We can now use the sampling distribution to determine the number of times a value of `2.52` or higher appeared in our simulations. If we then divide that frequency by `1000`, we'll have the probability of observing a mean difference of `2.52` or higher purely due to random chance.\n",
    "\n",
    "This probability is called the **p value**. If this value is high, it means that the difference in the amount of weight both groups lost could have *easily* happened randomly and the weight loss pills probably didn't play a role. On the other hand, a low p value implies that there's an incredibly small probability that the mean difference we observed was because of random chance.\n",
    "\n",
    "In general, it's good practice to set the **p value threshold** before conducting the study:\n",
    "\n",
    "- if the p value is less than the threshold, we:\n",
    "    - reject the null hypothesis that there's no difference in mean amount of weight lost by participants in both groups,\n",
    "    - accept the alternative hypothesis that the people who consumed the weight loss pill lost more weight,\n",
    "    - conclude that the weight loss pill does affect the amount of weight people lost.\n",
    "- if the p value is greater than the threshold, we:\n",
    "    - accept the null hypothesis that there's no difference in the mean amount of weight lost by participants in both groups,\n",
    "    - reject the alternative hypothesis that the people who consumed the weight loss pill lost more weight,\n",
    "    - conclude that the weight loss pill doesn't seem to be effective in helping people lose more weight.\n",
    "\n",
    "The most common p value threshold is `0.05` or 5%, which is what we'll use in this mission. Although .05 is an arbitrary threshold, it means that there's only a 5% chance that the results are due to random chance, which most researchers are comfortable with."
   ]
  },
  {
   "cell_type": "code",
   "execution_count": 6,
   "metadata": {},
   "outputs": [
    {
     "name": "stdout",
     "output_type": "stream",
     "text": [
      "0.0\n"
     ]
    }
   ],
   "source": [
    "frequencies = []\n",
    "for k, v in sampling_distribution.items():\n",
    "    if k >= 2.52:\n",
    "        frequencies.append(k)\n",
    "        \n",
    "p_value = sum(frequencies) / 1000\n",
    "print(p_value)"
   ]
  },
  {
   "cell_type": "markdown",
   "metadata": {},
   "source": [
    "# 9. Caveats\n",
    "\n",
    "Since the p value of `0` is less than the threshold we set of `0.05`, we conclude that the difference in weight lost can't be attributed to random chance alone. We therefore reject the null hypothesis and accept the alternative hypothesis. A few caveats:\n",
    "\n",
    "- Research design is incredibly important and can bias your results. For example, if the participants in group A realized they were given placebo sugar pills, they may modify their behavior and affect the outcome.\n",
    "- The p value threshold you set can also affect the conclusion you reach.\n",
    "    - If you set too high of a p value threshold, you may accept the alternative hypothesis incorrectly and reject the null hypothesis. This is known as a [**type I error**](https://en.wikipedia.org/wiki/Type_I_and_type_II_errors).\n",
    "    - If you set too low of a p value threshold, you may reject the alternative hypothesis incorrectly in favor of accepting the null hypothesis. This is known as a [**type II error**](https://en.wikipedia.org/wiki/Type_I_and_type_II_errors)."
   ]
  }
 ],
 "metadata": {
  "kernelspec": {
   "display_name": "Python 3",
   "language": "python",
   "name": "python3"
  },
  "language_info": {
   "codemirror_mode": {
    "name": "ipython",
    "version": 3
   },
   "file_extension": ".py",
   "mimetype": "text/x-python",
   "name": "python",
   "nbconvert_exporter": "python",
   "pygments_lexer": "ipython3",
   "version": "3.6.4"
  }
 },
 "nbformat": 4,
 "nbformat_minor": 2
}
