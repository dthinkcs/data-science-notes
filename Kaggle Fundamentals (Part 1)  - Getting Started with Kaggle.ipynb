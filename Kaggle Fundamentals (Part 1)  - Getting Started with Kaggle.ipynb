{
 "cells": [
  {
   "cell_type": "markdown",
   "metadata": {},
   "source": [
    "# 1. Introduction to Kaggle\n",
    "\n",
    "In this mission and the ones that follow, we're going to learn how to compete in Kaggle competitions. In this introductory mission we'll learn how to:\n",
    "\n",
    "- Approach a Kaggle competition\n",
    "- Explore the competition data and learn about the competition topic\n",
    "- Prepare data for machine learning\n",
    "- Train a model\n",
    "- Measure the accuracy of your model\n",
    "- Prepare and make your first Kaggle submission.\n",
    "\n",
    "Kaggle has created a number of competitions designed for beginners. The most popular of these competitions, and the one we'll be looking at, is about predicting which passengers survived the [sinking of the Titanic](https://en.wikipedia.org/wiki/Sinking_of_the_RMS_Titanic).\n",
    "\n",
    "In this competition, we have a data set of different information about passengers onboard the Titanic, and we see if we can use that information to predict whether those people survived or not. Before we start looking at this specific competition, let's take a moment to understand how Kaggle competitions work.\n",
    "\n",
    "Each Kaggle competition has two key data files that you will work with - a **training** set and a **testing** set.\n",
    "\n",
    "The training set contains data we can use to train our model. It has a number of feature columns which contain various descriptive data, as well as a column of the target values we are trying to predict: in this case, `Survival`.\n",
    "\n",
    "The testing set contains all of the same feature columns, but is missing the target value column. Additionally, the testing set usually has fewer observations (rows) than the training set.\n",
    "\n",
    "![](images/kaggle_overview.svg)\n",
    "\n",
    "This is useful because we want as much data as we can to train our model on. Once we have trained our model on the training set, we will use that model to make predictions on the data from the testing set, and submit those predictions to Kaggle.\n",
    "\n",
    "In this competition, the two files are named `test.csv` and `train.csv`. We'll start by using the pandas library to read both files and inspect their size."
   ]
  },
  {
   "cell_type": "code",
   "execution_count": 1,
   "metadata": {},
   "outputs": [],
   "source": [
    "import pandas as pd\n",
    "\n",
    "test = pd.read_csv(\"data/test.csv\")\n",
    "test_shape = test.shape\n",
    "\n",
    "train = pd.read_csv(\"data/train.csv\")\n",
    "train_shape = train.shape"
   ]
  },
  {
   "cell_type": "markdown",
   "metadata": {},
   "source": [
    "# 2. Exploring the Data\n",
    "\n",
    "The files we read in the previous screen are available on [the data page for the Titanic competition on Kaggle](https://www.kaggle.com/c/titanic/data). That page also has a **data dictionary**, which explains the various columns that make up the data set. Below are the descriptions contained in that data dictionary:\n",
    "\n",
    "- **PassengerID** - A column added by Kaggle to identify each row and make submissions easier\n",
    "- **Survived** - Whether the passenger survived or not and the value we are predicting (0=No, 1=Yes)\n",
    "- **Pclass** - The class of the ticket the passenger purchased (1=1st, 2=2nd, 3=3rd)\n",
    "- **Sex** - The passenger's sex\n",
    "- **Age** - The passenger's age in years\n",
    "- **SibSp** - The number of siblings or spouses the passenger had aboard the Titanic\n",
    "- **Parch** - The number of parents or children the passenger had aboard the Titanic\n",
    "- **Ticket** - The passenger's ticket number\n",
    "- **Fare** - The fare the passenger paid\n",
    "- **Cabin** - The passenger's cabin number\n",
    "- **Embarked** - The port where the passenger embarked (*C=Cherbourg, Q=Queenstown, S=Southampton*)\n",
    "\n",
    "The data page on Kaggle has some additional notes about some of the columns. It's always worth exploring this in detail to get a full understanding of the data.\n",
    "\n",
    "The first 5 rows of the data is below:\n",
    "\n",
    "||PassengerId|Survived|Pclass|Name|Sex|Age|SibSp|Parch|Ticket|Fare|Cabin|Embarked\n",
    "|-|----------|--------|------|----|---|---|-----|-----|------|----|-----|-------|\n",
    "|0|1|0|3|Braund, Mr. Owen Harris|male|22.0|1|0|A/5 21171|7.2500|NaN|S|\n",
    "|1|2|1|1|Cumings, Mrs. John Bradley (Florence Briggs Th...|female|38.0|1|0|PC 17599|71.2833|C85|C|\n",
    "|2|3|1|3|Heikkinen, Miss. Laina|female|26.0|0|0|STON/O2. 3101282|7.9250|NaN|S|\n",
    "|3|4|1|1|Futrelle, Mrs. Jacques Heath (Lily May Peel)|female|35.0|1|0|113803|53.1000|C123|S|\n",
    "|4|5|0|3|Allen, Mr. William Henry|male|35.0|0|0|373450|8.0500|NaN|S|\n",
    "\n",
    "The type of machine learning we will be doing is called **classification**, because when we make predictions we are classifying each passenger as survived or not. More specifically, we are performing **binary classification**, which means that there are only two different states we are classifying.\n",
    "\n",
    "In any machine learning exercise, thinking about the topic you are predicting is very important. We call this step acquiring domain knowledge, and it's one of the most important determinants for success in machine learning.\n",
    "\n",
    "In this case, understanding the Titanic disaster and specifically what variables might affect the outcome of survival is important. Anyone who has watched the movie Titanic would remember that women and children were given preference to lifeboats (as they were in real life). You would also remember the vast class disparity of the passengers.\n",
    "\n",
    "This indicates that `Age`, `Sex`, and `PClass` may be good predictors of survival. We'll start by exploring `Sex` and `Pclass` by visualizing the data.\n",
    "\n",
    "Because the `Survived` column contains `0` if the passenger did not survive and `1` if they did, we can segment our data by sex and calculate the mean of this column. We can use `DataFrame.pivot_table()` to easily do this:\n",
    "\n",
    "```python\n",
    "sex_pivot = train.pivot_table(index=\"Sex\",values=\"Survived\")\n",
    "sex_pivot.plot.bar()\n",
    "plt.show()\n",
    "```\n",
    "\n",
    "The resultant plot will look like this:\n",
    "\n",
    "![Pivoting and Plotting Sex](images/sex_pivot_plot.png)\n",
    "\n",
    "We can immediately see that females survived in much higher proportions than males did.\n",
    "\n",
    "Let's do the same with the `Pclass` column."
   ]
  },
  {
   "cell_type": "code",
   "execution_count": 2,
   "metadata": {},
   "outputs": [
    {
     "data": {
      "image/png": "[encoded data removed]",
      "text/plain": [
       "<matplotlib.figure.Figure at 0x7febedaf5d68>"
      ]
     },
     "metadata": {},
     "output_type": "display_data"
    },
    {
     "data": {
      "image/png": "[encoded data removed]",
      "text/plain": [
       "<matplotlib.figure.Figure at 0x7febe552e438>"
      ]
     },
     "metadata": {},
     "output_type": "display_data"
    }
   ],
   "source": [
    "import matplotlib.pyplot as plt\n",
    "%matplotlib inline\n",
    "\n",
    "sex_pivot = train.pivot_table(index=\"Sex\",values=\"Survived\")\n",
    "sex_pivot.plot.bar()\n",
    "plt.show()\n",
    "\n",
    "pclass_pivot = train.pivot_table(index='Pclass', values='Survived')\n",
    "pclass_pivot.plot.bar()\n",
    "plt.show()"
   ]
  },
  {
   "cell_type": "markdown",
   "metadata": {},
   "source": [
    "# 3. Exploring and Converting the Age Column\n",
    "\n",
    "The `Sex` and `PClass` columns are what we call **categorical** features. That means that the values represented a few separate options (for instance, whether the passenger was male or female).\n",
    "\n",
    "Let's take a look at the **Age** column using `Series.describe()`. You can run this code for yourself in the console, if you wish.\n",
    "\n",
    "```python\n",
    ">>> train[\"Age\"].describe()\n",
    "​\n",
    "    count    714.000000\n",
    "    mean      29.699118\n",
    "    std       14.526497\n",
    "    min        0.420000\n",
    "    25%       20.125000\n",
    "    50%       28.000000\n",
    "    75%       38.000000\n",
    "    max       80.000000\n",
    "    Name: Age, dtype: float64\n",
    "```\n",
    "\n",
    "The `Age` column contains numbers ranging from `0.42` to `80.0` (If you look at Kaggle's data page, it informs us that `Age` is fractional if the passenger is less than one). The other thing to note here is that there are 714 values in this column, fewer than the 891 rows we discovered that the `train` data set had earlier in this mission which indicates we have some missing values.\n",
    "\n",
    "All of this means that the `Age` column needs to be treated slightly differently, as this is a continuous numerical column. One way to look at distribution of values in a continuous numerical set is to use histograms. We can create two histograms to compare visually the those that survived vs those who died across different age ranges:\n",
    "\n",
    "```python\n",
    "survived = train[train[\"Survived\"] == 1]\n",
    "died = train[train[\"Survived\"] == 0]\n",
    "survived[\"Age\"].plot.hist(alpha=0.5,color='red',bins=50)\n",
    "died[\"Age\"].plot.hist(alpha=0.5,color='blue',bins=50)\n",
    "plt.legend(['Survived','Died'])\n",
    "plt.show()\n",
    "```\n",
    "\n",
    "The resultant plot will look like this:\n",
    "\n",
    "![Age Histograms](images/survived_age_hist.png)\n",
    "\n",
    "The relationship here is not simple, but we can see that in some age ranges more passengers survived - where the red bars are higher than the blue bars.\n",
    "\n",
    "In order for this to be useful to our machine learning model, we can separate this continuous feature into a categorical feature by dividing it into ranges. We can use the [`pandas.cut()` function](https://pandas.pydata.org/pandas-docs/stable/generated/pandas.cut.html) to help us out.\n",
    "\n",
    "The `pandas.cut()` function has two required parameters - the column we wish to cut, and a list of numbers which define the boundaries of our cuts. We are also going to use the optional parameter `labels`, which takes a list of labels for the resultant bins. This will make it easier for us to understand our results.\n",
    "\n",
    "Before we modify this column, we have to be aware of two things. Firstly, any change we make to the `train` data, we also need to make to the `test` data, otherwise we will be unable to use our model to make predictions for our submissions. Secondly, we need to remember to handle the missing values we observed above.\n",
    "\n",
    "In the example below, we create a function that:\n",
    "\n",
    "- uses the [`pandas.fillna()` method](http://pandas.pydata.org/pandas-docs/stable/generated/pandas.Series.fillna.html) to fill all of the missing values with `-0.5`\n",
    "- cuts the `Age` column into three segments: `Missing`, `Child`, and `Adult` using `pandas.cut()`.\n",
    "\n",
    "We then use that function on both the train and test dataframes.\n",
    "\n",
    "```python\n",
    "def process_age(df,cut_points,label_names):\n",
    "    df[\"Age\"] = df[\"Age\"].fillna(-0.5)\n",
    "    df[\"Age_categories\"] = pd.cut(df[\"Age\"],cut_points,labels=label_names)\n",
    "    return df\n",
    "​\n",
    "cut_points = [-1,0,18,100]\n",
    "label_names = [\"Missing\",\"Child\",\"Adult\"]\n",
    "​\n",
    "train = process_age(train,cut_points,label_names)\n",
    "test = process_age(test,cut_points,label_names)\n",
    "```\n",
    "\n",
    "The diagram below shows how the function converts the data:\n",
    "\n",
    "![pandas.cut() diagram](images/cut.svg)\n",
    "\n",
    "Note that the `cut_points` list has one more element than the `label_names` list, since it needs to define the upper boundary for the last segment."
   ]
  },
  {
   "cell_type": "code",
   "execution_count": 3,
   "metadata": {},
   "outputs": [
    {
     "data": {
      "image/png": "[encoded data removed]",
      "text/plain": [
       "<matplotlib.figure.Figure at 0x7febe54c6240>"
      ]
     },
     "metadata": {},
     "output_type": "display_data"
    }
   ],
   "source": [
    "def process_age(df,cut_points,label_names):\n",
    "    df[\"Age\"] = df[\"Age\"].fillna(-0.5)\n",
    "    df[\"Age_categories\"] = pd.cut(df[\"Age\"],cut_points,labels=label_names)\n",
    "    return df\n",
    "\n",
    "cut_points = [-1, 0, 5, 12, 18, 35, 60, 100]\n",
    "label_names = ['Missing', 'Infant', 'Child', 'Teenager',\n",
    "               'Young Adult', 'Adult', 'Senior']\n",
    "\n",
    "train = process_age(train, cut_points, label_names)\n",
    "test = process_age(test, cut_points, label_names)\n",
    "\n",
    "pivot_table = train.pivot_table(index='Age_categories', values='Survived')\n",
    "pivot_table.plot.bar()\n",
    "plt.show()"
   ]
  },
  {
   "cell_type": "markdown",
   "metadata": {},
   "source": [
    "# 4. Preparing our Data for Machine Learning\n",
    "\n",
    "So far we have identified three columns that may be useful for predicting survival:\n",
    "\n",
    "- `Sex`\n",
    "- `Pclass`\n",
    "- `Age`, or more specifically our newly created `Age_categories`\n",
    "\n",
    "Before we build our model, we need to prepare these columns for machine learning. Most machine learning algorithms can't understand text labels, so we have to convert our values into numbers.\n",
    "\n",
    "Additionally, we need to be careful that we don't imply any numeric relationship where there isn't one. If we think of the values in the `Pclass` column, we know they are `1`, `2`, and `3`. You can confirm this by running the following code in your console:\n",
    "\n",
    "```python\n",
    ">>> train[\"Pclass\"].value_counts()\n",
    "```\n",
    "\n",
    "While the class of each passenger certainly has some sort of ordered relationship, the relationship between each class is not the same as the relationship between the numbers `1`, `2`, and `3`. For instance, class `2` isn't \"worth\" double what class `1` is, and class `3` isn't \"worth\" triple what class `1` is.\n",
    "\n",
    "In order to remove this relationship, we can create dummy columns for each unique value in `Pclass`:\n",
    "\n",
    "![Pclass Dummy Columns](images/kaggle_get_dummies.svg)\n",
    "\n",
    "Rather than doing this manually, we can use the [`pandas.get_dummies()` function](https://pandas.pydata.org/pandas-docs/stable/generated/pandas.get_dummies.html), which will generate columns shown in the diagram above.\n",
    "\n",
    "The following code creates a function to create the dummy columns for the `Pclass` column and add it back to the original dataframe. It then applies that function the `train` and `test` dataframes.\n",
    "\n",
    "```python\n",
    "def create_dummies(df,column_name):\n",
    "    dummies = pd.get_dummies(df[column_name],prefix=column_name)\n",
    "    df = pd.concat([df,dummies],axis=1)\n",
    "    return df\n",
    "​\n",
    "train = create_dummies(train,\"Pclass\")\n",
    "test = create_dummies(test,\"Pclass\")\n",
    "```\n",
    "\n",
    "Let's use that function to create dummy columns for both the `Sex` and `Age_categories` columns."
   ]
  },
  {
   "cell_type": "code",
   "execution_count": 4,
   "metadata": {},
   "outputs": [],
   "source": [
    "def create_dummies(df,column_name):\n",
    "    dummies = pd.get_dummies(df[column_name],prefix=column_name)\n",
    "    df = pd.concat([df,dummies],axis=1)\n",
    "    return df\n",
    "\n",
    "train = create_dummies(train,\"Pclass\")\n",
    "test = create_dummies(test,\"Pclass\")\n",
    "\n",
    "train = create_dummies(train,\"Sex\")\n",
    "test = create_dummies(test,\"Sex\")\n",
    "\n",
    "train = create_dummies(train,\"Age_categories\")\n",
    "test = create_dummies(test,\"Age_categories\")"
   ]
  },
  {
   "cell_type": "markdown",
   "metadata": {},
   "source": [
    "# 5. Creating Our First ML Model\n",
    "\n",
    "Now that our data has been prepared, we are ready to train our first model. The first model we will use is called **Logistic Regression**, which is often the first model you will train when performing classification.\n",
    "\n",
    "We will be using the [scikit-learn](http://scikit-learn.org/stable/index.html) library as it has many tools that make performing machine learning easier. The scikit-learn workflow consists of four main steps:\n",
    "\n",
    "- Instantiate (or create) the specific machine learning model you want to use\n",
    "- Fit the model to the training data\n",
    "- Use the model to make predictions\n",
    "- Evaluate the accuracy of the predictions\n",
    "\n",
    "Each model in scikit-learn is implemented as a separate class and the first step is to identify the class we want to create an instance of. In our case, we want to use the [LogisticRegression class](http://scikit-learn.org/stable/modules/generated/sklearn.linear_model.LogisticRegression.html).\n",
    "\n",
    "We'll start by looking at the first two steps. First, we need to import the class:\n",
    "\n",
    "```python\n",
    "from sklearn.linear_model import LogisticRegression\n",
    "```\n",
    "\n",
    "Next, we create a **LogisticRegression** object:\n",
    "\n",
    "```python\n",
    "lr = LogisticRegression()\n",
    "```\n",
    "\n",
    "Lastly, we use the [`LogisticRegression.fit()` method](http://scikit-learn.org/stable/modules/generated/sklearn.linear_model.LogisticRegression.html#sklearn.linear_model.LogisticRegression.fit) to train our model. The `.fit()` method accepts two arguments: `X` and `y`. `X` must be a two dimensional array (like a dataframe) of the features that we wish to train our model on, and `y` must be a one-dimensional array (like a series) of our target, or the column we wish to predict.\n",
    "\n",
    "```python\n",
    "columns = ['Pclass_2', 'Pclass_3', 'Sex_male']\n",
    "lr.fit(train[columns], train['Survived'])\n",
    "```\n",
    "\n",
    "The code above fits (or trains) our **LogisticRegression** model using three columns: `Pclass_2`, `Pclass_3`, and `Sex_male`.\n",
    "\n",
    "Let's train our model using all of the columns we created in the previous screen."
   ]
  },
  {
   "cell_type": "code",
   "execution_count": 5,
   "metadata": {},
   "outputs": [
    {
     "data": {
      "text/plain": [
       "LogisticRegression(C=1.0, class_weight=None, dual=False, fit_intercept=True,\n",
       "          intercept_scaling=1, max_iter=100, multi_class='ovr', n_jobs=1,\n",
       "          penalty='l2', random_state=None, solver='liblinear', tol=0.0001,\n",
       "          verbose=0, warm_start=False)"
      ]
     },
     "execution_count": 5,
     "metadata": {},
     "output_type": "execute_result"
    }
   ],
   "source": [
    "columns = ['Pclass_1', 'Pclass_2', 'Pclass_3', 'Sex_female', 'Sex_male',\n",
    "           'Age_categories_Missing','Age_categories_Infant',\n",
    "           'Age_categories_Child', 'Age_categories_Teenager',\n",
    "           'Age_categories_Young Adult', 'Age_categories_Adult',\n",
    "           'Age_categories_Senior']\n",
    "\n",
    "from sklearn.linear_model import LogisticRegression\n",
    "\n",
    "lr = LogisticRegression()\n",
    "lr.fit(train[columns], train['Survived'])"
   ]
  },
  {
   "cell_type": "markdown",
   "metadata": {},
   "source": [
    "# 6. Splitting Our Training Data\n",
    "\n",
    "Congratulations, you've trained your first machine learning model! Our next step is to find out how accurate our model is, and to do that, we'll have to make some predictions.\n",
    "\n",
    "If you recall from earlier, we do have a `test` dataframe that we could use to make predictions. We could make predictions on that data set, but because it doesn't have the `Survived` column we would have to submit it to Kaggle to find out our accuracy. This would quickly become a pain if we had to submit to find out the accuracy every time we optimized our model.\n",
    "\n",
    "We could also fit and predict on our `train` dataframe, however if we do this there is a high likelihood that our model will **overfit**, which means it will perform well because we're testing on the same data we've trained on, but then perform much worse on new, unseen data.\n",
    "\n",
    "Instead we can split our `train` dataframe into two:\n",
    "\n",
    "- One part to train our model on (often 80% of the observations)\n",
    "- One part to make predictions with and test our model (often 20% of the observations)\n",
    "\n",
    "The convention in machine learning is to call these two parts `train` and `test`. This can become confusing, since we already have our `test` dataframe that we will eventually use to make predictions to submit to Kaggle. To avoid confusion, from here on, we're going to call this Kaggle 'test' data **holdout** data, which is the technical name given to this type of data used for final predictions.\n",
    "\n",
    "The scikit-learn library has a handy [`model_selection.train_test_split()` function](http://scikit-learn.org/stable/modules/generated/sklearn.model_selection.train_test_split.html) that we can use to split our data. `train_test_split()` accepts two parameters, `X` and `y`, which contain all the data we want to train and test on, and returns four objects: `train_X, train_y, test_X, test_y`:\n",
    "\n",
    "![Train/Test Split](images/kaggle_train_test_split.svg)\n",
    "\n",
    "Here's what the syntax for creating these four objects looks like:\n",
    "\n",
    "```python\n",
    "from sklearn.model_selection import train_test_split\n",
    "​\n",
    "columns = ['Pclass_2', 'Pclass_3', 'Sex_male']\n",
    "​\n",
    "all_X = train[columns]\n",
    "all_y = train['Survived']\n",
    "​\n",
    "train_X, test_X, train_y, test_y = train_test_split(\n",
    "    all_X, all_y, test_size=0.2,random_state=0)\n",
    "```\n",
    "\n",
    "You'll notice that there are two other parameters we used: `test_size`, which lets us control what proportions our data are split into, and `random_state`. The `train_test_split()` function randomizes observations before dividing them, and setting a [random seed](https://en.wikipedia.org/wiki/Random_seed) means that our results will be reproducible, which is important if you are collaborating, or need to produce consistent results each time (which our answer checker requires)."
   ]
  },
  {
   "cell_type": "code",
   "execution_count": 6,
   "metadata": {},
   "outputs": [],
   "source": [
    "holdout = test # from now on we will refer to this\n",
    "               # dataframe as the holdout data\n",
    "\n",
    "from sklearn.model_selection import train_test_split\n",
    "\n",
    "columns = ['Pclass_1', 'Pclass_2', 'Pclass_3', 'Sex_female', 'Sex_male',\n",
    "       'Age_categories_Missing','Age_categories_Infant',\n",
    "       'Age_categories_Child', 'Age_categories_Teenager',\n",
    "       'Age_categories_Young Adult', 'Age_categories_Adult',\n",
    "       'Age_categories_Senior']\n",
    "\n",
    "train_X, test_X, train_y, test_y = train_test_split(train[columns], train['Survived'], test_size=.2, random_state=0)"
   ]
  },
  {
   "cell_type": "markdown",
   "metadata": {},
   "source": [
    "# 7. Making Predictions and Measuring their Accuracy\n",
    "\n",
    "Now that we have our data split into train and test sets, we can fit our model again on our training set, and then use that model to make predictions on our test set.\n",
    "\n",
    "Once we have fit our model, we can use the [`LogisticRegression.predict()` method](http://scikit-learn.org/stable/modules/generated/sklearn.linear_model.LogisticRegression.html#sklearn.linear_model.LogisticRegression.predict) to make predictions.\n",
    "\n",
    "The `predict()` method takes a single parameter `X`, a two dimensional array of features for the observations we wish to predict. `X` must have the exact same features as the array we used to fit our model. The method returns single dimensional array of predictions.\n",
    "\n",
    "```python\n",
    "lr = LogisticRegression()\n",
    "lr.fit(train_X, train_y)\n",
    "predictions = lr.predict(test_X)\n",
    "```\n",
    "\n",
    "There are a number of ways to measure the accuracy of machine learning models, but when competing in Kaggle competitions you want to make sure you use the same method that Kaggle uses to calculate accuracy for that specific competition.\n",
    "\n",
    "In this case, [the evaluation section for the Titanic competition on Kaggle](https://www.kaggle.com/c/titanic#evaluation) tells us that our score calculated as \"the percentage of passengers correctly predicted\". This is by far the most common form of accuracy for binary classification.\n",
    "\n",
    "As an example, imagine we were predicting a small data set of five observations.\n",
    "\n",
    "|Our model's prediction|The actual value|Correct|\n",
    "|----------------------|----------------|-------|\n",
    "|0|0|Yes|\n",
    "|1|0|No|\n",
    "|0|1|No|\n",
    "|1|1|Yes|\n",
    "|1|1|Yes|\n",
    "\n",
    "In this case, our model correctly predicted three out of five values, so the accuracy based on this prediction set would be 60%.\n",
    "\n",
    "Again, scikit-learn has a handy function we can use to calculate accuracy: `metrics.accuracy_score()`. The function accepts two parameters, `y_true` and `y_pred`, which are the actual values and our predicted values respectively, and returns our accuracy score.\n",
    "\n",
    "```python\n",
    "from sklearn.metrics import accuracy_score\n",
    "accuracy = accuracy_score(test_y, predictions)\n",
    "from sklearn.metrics import accuracy_score\n",
    "accuracy = accuracy_score(test_y, predictions)\n",
    "```\n",
    "\n",
    "Let's put all of these steps together, and get our first accuracy score."
   ]
  },
  {
   "cell_type": "code",
   "execution_count": 7,
   "metadata": {},
   "outputs": [
    {
     "name": "stdout",
     "output_type": "stream",
     "text": [
      "Accuracy: 0.8100558659217877\n"
     ]
    }
   ],
   "source": [
    "from sklearn.metrics import accuracy_score\n",
    "\n",
    "lr = LogisticRegression()\n",
    "lr.fit(train_X, train_y)\n",
    "predictions = lr.predict(test_X)\n",
    "accuracy = accuracy_score(test_y, predictions)\n",
    "print('Accuracy:', accuracy)"
   ]
  },
  {
   "cell_type": "markdown",
   "metadata": {},
   "source": [
    "# 8. Using Cross Validation for More Accurate Error Measurement\n",
    "\n",
    "Our model has an accuracy score of 81.0% when tested against our 20% test set. Given that this data set is quite small, there is a good chance that our model is overfitting, and will not perform as well on totally unseen data.\n",
    "\n",
    "To give us a better understanding of the real performance of our model, we can use a technique called **cross validation** to train and test our model on different splits of our data, and then average the accuracy scores.\n",
    "\n",
    "![Cross Validation](images/kaggle_cross_validation.svg)\n",
    "\n",
    "The most common form of cross validation, and the one we will be using, is called **k-fold cross validation**. 'Fold' refers to each different iteration that we train our model on, and 'k' just refers to the number of folds. In the diagram above, we have illustrated k-fold validation where k is 5.\n",
    "\n",
    "We will use scikit-learn's [`model_selection.cross_val_score()` function](http://scikit-learn.org/stable/modules/generated/sklearn.model_selection.cross_val_score.html#sklearn.model_selection.cross_val_score) to automate the process. The basic syntax for `cross_val_score()` is:\n",
    "\n",
    "```python\n",
    "cross_val_score(estimator, X, y, cv=None)\n",
    "```\n",
    "\n",
    "- `estimator` is a scikit-learn estimator object, like the `LogisticRegression()` objects we have been creating.\n",
    "- `X` is all features from our data set.\n",
    "- `y` is the target variables.\n",
    "- `cv` specifies the number of folds.\n",
    "\n",
    "The function returns a numpy ndarray of the accuracy scores of each fold.\n",
    "\n",
    "It's worth noting, the `cross_val_score()` function can use a variety of cross validation techniques and scoring types, but it defaults to k-fold validation and accuracy scores for our input types."
   ]
  },
  {
   "cell_type": "code",
   "execution_count": 8,
   "metadata": {},
   "outputs": [
    {
     "name": "stdout",
     "output_type": "stream",
     "text": [
      "Scores: [0.8        0.81111111 0.7752809  0.87640449 0.80898876 0.78651685\n",
      " 0.76404494 0.76404494 0.83146067 0.80681818]\n",
      "Accuracy: 0.8024670865963002\n"
     ]
    }
   ],
   "source": [
    "from sklearn.model_selection import cross_val_score\n",
    "import numpy as np\n",
    "\n",
    "all_X = train[columns]\n",
    "all_y = train['Survived']\n",
    "\n",
    "lr = LogisticRegression()\n",
    "scores = cross_val_score(lr, all_X, all_y, cv=10)\n",
    "accuracy = np.mean(scores)\n",
    "print('Scores:',scores)\n",
    "print('Accuracy:',accuracy)"
   ]
  },
  {
   "cell_type": "markdown",
   "metadata": {},
   "source": [
    "# 9. Making Predictions on Unseen Data\n",
    "\n",
    "From the results of our k-fold validation, you can see that the accuracy number varies with each fold - ranging between 76.4% and 87.6%. This demonstrates why cross validation is important.\n",
    "\n",
    "As it happens, our average accuracy score was 80.2%, which is not far from the 81.0% we got from our simple train/test split, however this will not always be the case, and you should always use cross-validation to make sure the error metrics you are getting from your model are accurate.\n",
    "\n",
    "We are now ready to use the model we have built to train our final model and then make predictions on our unseen holdout data, or what Kaggle calls the 'test' data set."
   ]
  },
  {
   "cell_type": "code",
   "execution_count": 9,
   "metadata": {},
   "outputs": [
    {
     "name": "stdout",
     "output_type": "stream",
     "text": [
      "[0 0 0 0 1 0 1 0 1 0 0 0 1 0 1 1 0 0 1 0 0 0 1 0 1 0 1 0 0 0 0 0 1 1 0 0 1\n",
      " 1 0 0 0 0 0 1 1 0 0 0 1 0 0 0 1 1 0 0 0 0 0 1 0 0 0 1 0 1 1 0 0 1 1 0 1 0\n",
      " 1 0 0 1 0 1 0 0 0 0 0 0 1 1 1 1 1 0 1 0 0 0 1 0 1 0 1 0 0 0 1 0 0 0 0 0 0\n",
      " 1 1 1 1 0 0 1 0 1 1 0 1 0 0 1 0 1 0 0 0 0 1 0 0 0 0 0 1 0 1 1 0 0 0 0 0 0\n",
      " 0 0 1 0 0 0 0 0 1 1 0 1 1 0 1 0 0 1 0 0 1 1 0 0 0 0 0 1 1 0 1 1 0 0 1 0 1\n",
      " 0 1 0 1 0 0 0 0 0 0 0 0 1 0 1 1 0 0 1 0 0 1 0 1 0 0 0 0 1 0 0 1 0 1 0 1 0\n",
      " 1 0 1 1 0 1 0 0 0 1 0 0 0 0 0 0 1 1 1 1 0 0 0 0 1 0 1 1 1 0 0 0 0 0 0 0 1\n",
      " 0 0 0 1 1 0 0 0 0 1 0 0 0 1 1 0 1 0 0 0 0 1 0 1 1 1 0 0 0 0 0 0 1 0 0 0 0\n",
      " 1 0 0 0 0 0 0 0 1 1 0 0 0 0 0 0 0 0 1 1 0 0 0 0 0 0 0 0 1 0 1 0 0 0 1 0 0\n",
      " 1 0 0 0 0 0 0 0 0 0 1 0 1 0 0 0 1 1 0 0 0 1 0 1 0 0 1 0 1 1 0 1 1 0 1 1 0\n",
      " 0 1 0 0 1 1 1 0 0 0 0 0 1 1 0 1 0 0 0 0 0 1 0 0 0 1 0 1 0 0 1 0 1 0 0 0 0\n",
      " 0 1 1 1 1 1 0 1 0 0 0]\n"
     ]
    }
   ],
   "source": [
    "columns = ['Pclass_1', 'Pclass_2', 'Pclass_3', 'Sex_female', 'Sex_male',\n",
    "           'Age_categories_Missing','Age_categories_Infant',\n",
    "           'Age_categories_Child', 'Age_categories_Teenager',\n",
    "           'Age_categories_Young Adult', 'Age_categories_Adult',\n",
    "           'Age_categories_Senior']\n",
    "\n",
    "lr = LogisticRegression()\n",
    "lr.fit(all_X, all_y)\n",
    "holdout_predictions = lr.predict(holdout[columns])\n",
    "print(holdout_predictions)"
   ]
  },
  {
   "cell_type": "markdown",
   "metadata": {},
   "source": [
    "# 10. Creating a Submission File\n",
    "\n",
    "The last thing we need to do is create a submission file. Each Kaggle competition can have slightly different requirements for the submission file. Here's what is specified on the [Titanic competition evaluation page](https://www.kaggle.com/c/titanic#evaluation):\n",
    "\n",
    "> You should submit a csv file with exactly 418 entries plus a header row. Your submission will show an error if you have extra columns (beyond PassengerId and Survived) or rows.\n",
    "\n",
    "> The file should have exactly 2 columns:\n",
    "\n",
    "> - PassengerId (sorted in any order)\n",
    "> - Survived (contains your binary predictions: 1 for survived, 0 for deceased)\n",
    "\n",
    "The table below shows this in a slightly easier to understand format, so we can visualize what we are aiming for.\n",
    "\n",
    "| PassengerId | Survived |\n",
    "|-|-|\n",
    "|892\t|0|\n",
    "|893\t|1|\n",
    "|894\t|0|\n",
    "\n",
    "We will need to create a new dataframe that contains the `holdout_predictions` we created in the previous screen and the `PassengerId` column from the holdout dataframe. We don't need to worry about matching the data up, as both of these remain in their original order.\n",
    "\n",
    "To do this, we can pass a dictionary to the [`pandas.DataFrame()` function](https://pandas.pydata.org/pandas-docs/stable/generated/pandas.DataFrame.html):\n",
    "\n",
    "```python\n",
    "holdout_ids = holdout[\"PassengerId\"]\n",
    "submission_df = {\"PassengerId\": holdout_ids,\n",
    "                 \"Survived\": holdout_predictions}\n",
    "submission = pd.DataFrame(submission_df)\n",
    "```\n",
    "\n",
    "Finally, we'll use the [`DataFrame.to_csv()` method](http://pandas.pydata.org/pandas-docs/stable/generated/pandas.DataFrame.to_csv.html) to save the dataframe to a CSV file. We need to make sure the `index` parameter is set to `False`, otherwise we will add an extra column to our CSV."
   ]
  },
  {
   "cell_type": "code",
   "execution_count": 10,
   "metadata": {},
   "outputs": [],
   "source": [
    "submission_df = {'PassengerId': holdout['PassengerId'],\n",
    "                 'Survived': holdout_predictions}\n",
    "submission = pd.DataFrame(submission_df)\n",
    "# submission.to_csv('submission.csv', index=False)"
   ]
  },
  {
   "cell_type": "markdown",
   "metadata": {},
   "source": [
    "# 11. Making Our First Submission to Kaggle\n",
    "\n",
    "Now that we have our submission file, we can start our submission to Kaggle by clicking the blue 'Submit Predictions' button on the [competition page](https://www.kaggle.com/c/titanic).\n",
    "\n",
    "![Kaggle competition page](images/kaggle_submit.jpg)\n",
    "\n",
    "You will then be prompted to upload your CSV file, and add a brief description of your submission. When you make your submission, Kaggle will process your predictions and give you your accuracy for the holdout data and your ranking. When it is finished processing you will see our first submission gets an accuracy score of 0.75598, or 75.6%.\n",
    "\n",
    "![Our submission rank](images/submission_rank.png)\n",
    "\n",
    "The fact that our accuracy on the holdout data is 75.6% compared with the 80.2% accuracy we got with cross-validation indicates that our model is overfitting slightly to our training data.\n",
    "\n",
    "At the time of writing, accuracy of 75.6% gives a rank of 6,663 out of 7,954. It's easy to look at Kaggle leaderboards after your first submission and get discouraged, but keep in mind that this is just a starting point.\n",
    "\n",
    "It's also very common to see a small number of scores of 100% at the top of the Titanic leaderboard and think that you have a long way to go. In reality, anyone scoring about 90% on this competition is likely cheating (it's easy to look up the names of the passengers in the holdout set online and see if they survived).\n",
    "\n",
    "There is a great analysis on Kaggle, [How am I doing with my score](https://www.kaggle.com/pliptor/how-am-i-doing-with-my-score/notebook), which uses a few different strategies and suggests a minimum score for this competition is 62.7% (achieved by presuming that every passenger died) and a maximum of around 82%. We are a little over halfway between the minimum and maximum, which is a great starting point."
   ]
  },
  {
   "cell_type": "markdown",
   "metadata": {},
   "source": [
    "# 12. Next Steps\n",
    "\n",
    "There are many things we can do to improve the accuracy of our model. Here are some that we will cover in the next two missions of this course:\n",
    "\n",
    "- Improving the features:\n",
    "    - Feature Engineering: Create new features from the existing data.\n",
    "    - Feature Selection: Select the most relevant features to reduce noise and overfitting.\n",
    "- Improving the model:\n",
    "    - Model Selection: Try a variety of models to improve performance.\n",
    "    - Hyperparameter Optimization: Optimize the settings within each particular machine learning model."
   ]
  }
 ],
 "metadata": {
  "kernelspec": {
   "display_name": "Python 3",
   "language": "python",
   "name": "python3"
  },
  "language_info": {
   "codemirror_mode": {
    "name": "ipython",
    "version": 3
   },
   "file_extension": ".py",
   "mimetype": "text/x-python",
   "name": "python",
   "nbconvert_exporter": "python",
   "pygments_lexer": "ipython3",
   "version": "3.6.4"
  }
 },
 "nbformat": 4,
 "nbformat_minor": 2
}
